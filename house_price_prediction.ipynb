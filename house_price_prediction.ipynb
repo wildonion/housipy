{
 "cells": [
  {
   "cell_type": "code",
   "execution_count": 1,
   "metadata": {},
   "outputs": [],
   "source": [
    "# utility function for printing score of a regression algorithm\n",
    "\n",
    "def rmsle(y, y_): # rmsle loss formula - Root Mean Squared Log Error\n",
    "    log1 = np.nan_to_num(np.array([np.log(v + 1) for v in y]))\n",
    "    log2 = np.nan_to_num(np.array([np.log(v + 1) for v in y_]))\n",
    "    calc = (log1 - log2) ** 2\n",
    "    return np.sqrt(np.mean(calc))\n",
    "\n",
    "def print_score(algo, score, params):\n",
    "    print('%s score is %f with params %s' % (algo, score, json.dumps(params)))"
   ]
  },
  {
   "cell_type": "code",
   "execution_count": 2,
   "metadata": {},
   "outputs": [
    {
     "data": {
      "text/html": [
       "<div>\n",
       "<style scoped>\n",
       "    .dataframe tbody tr th:only-of-type {\n",
       "        vertical-align: middle;\n",
       "    }\n",
       "\n",
       "    .dataframe tbody tr th {\n",
       "        vertical-align: top;\n",
       "    }\n",
       "\n",
       "    .dataframe thead th {\n",
       "        text-align: right;\n",
       "    }\n",
       "</style>\n",
       "<table border=\"1\" class=\"dataframe\">\n",
       "  <thead>\n",
       "    <tr style=\"text-align: right;\">\n",
       "      <th></th>\n",
       "      <th>MSSubClass</th>\n",
       "      <th>MSZoning</th>\n",
       "      <th>LotFrontage</th>\n",
       "      <th>LotArea</th>\n",
       "      <th>Street</th>\n",
       "      <th>Alley</th>\n",
       "      <th>LotShape</th>\n",
       "      <th>LandContour</th>\n",
       "      <th>Utilities</th>\n",
       "      <th>LotConfig</th>\n",
       "      <th>...</th>\n",
       "      <th>PoolArea</th>\n",
       "      <th>PoolQC</th>\n",
       "      <th>Fence</th>\n",
       "      <th>MiscFeature</th>\n",
       "      <th>MiscVal</th>\n",
       "      <th>MoSold</th>\n",
       "      <th>YrSold</th>\n",
       "      <th>SaleType</th>\n",
       "      <th>SaleCondition</th>\n",
       "      <th>SalePrice</th>\n",
       "    </tr>\n",
       "    <tr>\n",
       "      <th>Id</th>\n",
       "      <th></th>\n",
       "      <th></th>\n",
       "      <th></th>\n",
       "      <th></th>\n",
       "      <th></th>\n",
       "      <th></th>\n",
       "      <th></th>\n",
       "      <th></th>\n",
       "      <th></th>\n",
       "      <th></th>\n",
       "      <th></th>\n",
       "      <th></th>\n",
       "      <th></th>\n",
       "      <th></th>\n",
       "      <th></th>\n",
       "      <th></th>\n",
       "      <th></th>\n",
       "      <th></th>\n",
       "      <th></th>\n",
       "      <th></th>\n",
       "      <th></th>\n",
       "    </tr>\n",
       "  </thead>\n",
       "  <tbody>\n",
       "    <tr>\n",
       "      <th>1</th>\n",
       "      <td>60</td>\n",
       "      <td>RL</td>\n",
       "      <td>65.0</td>\n",
       "      <td>8450</td>\n",
       "      <td>Pave</td>\n",
       "      <td>NaN</td>\n",
       "      <td>Reg</td>\n",
       "      <td>Lvl</td>\n",
       "      <td>AllPub</td>\n",
       "      <td>Inside</td>\n",
       "      <td>...</td>\n",
       "      <td>0</td>\n",
       "      <td>NaN</td>\n",
       "      <td>NaN</td>\n",
       "      <td>NaN</td>\n",
       "      <td>0</td>\n",
       "      <td>2</td>\n",
       "      <td>2008</td>\n",
       "      <td>WD</td>\n",
       "      <td>Normal</td>\n",
       "      <td>208500</td>\n",
       "    </tr>\n",
       "    <tr>\n",
       "      <th>2</th>\n",
       "      <td>20</td>\n",
       "      <td>RL</td>\n",
       "      <td>80.0</td>\n",
       "      <td>9600</td>\n",
       "      <td>Pave</td>\n",
       "      <td>NaN</td>\n",
       "      <td>Reg</td>\n",
       "      <td>Lvl</td>\n",
       "      <td>AllPub</td>\n",
       "      <td>FR2</td>\n",
       "      <td>...</td>\n",
       "      <td>0</td>\n",
       "      <td>NaN</td>\n",
       "      <td>NaN</td>\n",
       "      <td>NaN</td>\n",
       "      <td>0</td>\n",
       "      <td>5</td>\n",
       "      <td>2007</td>\n",
       "      <td>WD</td>\n",
       "      <td>Normal</td>\n",
       "      <td>181500</td>\n",
       "    </tr>\n",
       "    <tr>\n",
       "      <th>3</th>\n",
       "      <td>60</td>\n",
       "      <td>RL</td>\n",
       "      <td>68.0</td>\n",
       "      <td>11250</td>\n",
       "      <td>Pave</td>\n",
       "      <td>NaN</td>\n",
       "      <td>IR1</td>\n",
       "      <td>Lvl</td>\n",
       "      <td>AllPub</td>\n",
       "      <td>Inside</td>\n",
       "      <td>...</td>\n",
       "      <td>0</td>\n",
       "      <td>NaN</td>\n",
       "      <td>NaN</td>\n",
       "      <td>NaN</td>\n",
       "      <td>0</td>\n",
       "      <td>9</td>\n",
       "      <td>2008</td>\n",
       "      <td>WD</td>\n",
       "      <td>Normal</td>\n",
       "      <td>223500</td>\n",
       "    </tr>\n",
       "    <tr>\n",
       "      <th>4</th>\n",
       "      <td>70</td>\n",
       "      <td>RL</td>\n",
       "      <td>60.0</td>\n",
       "      <td>9550</td>\n",
       "      <td>Pave</td>\n",
       "      <td>NaN</td>\n",
       "      <td>IR1</td>\n",
       "      <td>Lvl</td>\n",
       "      <td>AllPub</td>\n",
       "      <td>Corner</td>\n",
       "      <td>...</td>\n",
       "      <td>0</td>\n",
       "      <td>NaN</td>\n",
       "      <td>NaN</td>\n",
       "      <td>NaN</td>\n",
       "      <td>0</td>\n",
       "      <td>2</td>\n",
       "      <td>2006</td>\n",
       "      <td>WD</td>\n",
       "      <td>Abnorml</td>\n",
       "      <td>140000</td>\n",
       "    </tr>\n",
       "    <tr>\n",
       "      <th>5</th>\n",
       "      <td>60</td>\n",
       "      <td>RL</td>\n",
       "      <td>84.0</td>\n",
       "      <td>14260</td>\n",
       "      <td>Pave</td>\n",
       "      <td>NaN</td>\n",
       "      <td>IR1</td>\n",
       "      <td>Lvl</td>\n",
       "      <td>AllPub</td>\n",
       "      <td>FR2</td>\n",
       "      <td>...</td>\n",
       "      <td>0</td>\n",
       "      <td>NaN</td>\n",
       "      <td>NaN</td>\n",
       "      <td>NaN</td>\n",
       "      <td>0</td>\n",
       "      <td>12</td>\n",
       "      <td>2008</td>\n",
       "      <td>WD</td>\n",
       "      <td>Normal</td>\n",
       "      <td>250000</td>\n",
       "    </tr>\n",
       "  </tbody>\n",
       "</table>\n",
       "<p>5 rows × 80 columns</p>\n",
       "</div>"
      ],
      "text/plain": [
       "    MSSubClass MSZoning  LotFrontage  LotArea Street Alley LotShape  \\\n",
       "Id                                                                    \n",
       "1           60       RL         65.0     8450   Pave   NaN      Reg   \n",
       "2           20       RL         80.0     9600   Pave   NaN      Reg   \n",
       "3           60       RL         68.0    11250   Pave   NaN      IR1   \n",
       "4           70       RL         60.0     9550   Pave   NaN      IR1   \n",
       "5           60       RL         84.0    14260   Pave   NaN      IR1   \n",
       "\n",
       "   LandContour Utilities LotConfig  ... PoolArea PoolQC Fence MiscFeature  \\\n",
       "Id                                  ...                                     \n",
       "1          Lvl    AllPub    Inside  ...        0    NaN   NaN         NaN   \n",
       "2          Lvl    AllPub       FR2  ...        0    NaN   NaN         NaN   \n",
       "3          Lvl    AllPub    Inside  ...        0    NaN   NaN         NaN   \n",
       "4          Lvl    AllPub    Corner  ...        0    NaN   NaN         NaN   \n",
       "5          Lvl    AllPub       FR2  ...        0    NaN   NaN         NaN   \n",
       "\n",
       "   MiscVal MoSold  YrSold  SaleType  SaleCondition  SalePrice  \n",
       "Id                                                             \n",
       "1        0      2    2008        WD         Normal     208500  \n",
       "2        0      5    2007        WD         Normal     181500  \n",
       "3        0      9    2008        WD         Normal     223500  \n",
       "4        0      2    2006        WD        Abnorml     140000  \n",
       "5        0     12    2008        WD         Normal     250000  \n",
       "\n",
       "[5 rows x 80 columns]"
      ]
     },
     "execution_count": 2,
     "metadata": {},
     "output_type": "execute_result"
    }
   ],
   "source": [
    "import numpy as np # we use numpy for linear algebra ops\n",
    "import pandas as pd # we use pandas for csv ops\n",
    "import sklearn, json # we use sklearn for ml algos\n",
    "from sklearn import preprocessing as pp # preprocessing ops\n",
    "from sklearn import linear_model # regression algorithms\n",
    "from sklearn.impute import SimpleImputer # imputation ops\n",
    "import sklearn.model_selection as ms # spliting ops\n",
    "import sklearn.metrics as metrics\n",
    "from sklearn.decomposition import PCA # reduction ops\n",
    "from sklearn.metrics import mean_squared_error\n",
    "import xgboost as xgb\n",
    "import matplotlib.pyplot as plt\n",
    "plt.style.use('ggplot')\n",
    "\n",
    "data_frame = pd.read_csv('train.csv')\n",
    "data_frame = data_frame.set_index('Id') # set Id as index for indexing rows\n",
    "\n",
    "test_data_frame = pd.read_csv('test.csv')\n",
    "test_data_frame = test_data_frame.set_index('Id')\n",
    "data_frame.head() # showing the first 5 rows\n",
    "\n"
   ]
  },
  {
   "cell_type": "code",
   "execution_count": 3,
   "metadata": {},
   "outputs": [
    {
     "name": "stdout",
     "output_type": "stream",
     "text": [
      "Sale price AVG: $180,921\n"
     ]
    }
   ],
   "source": [
    "# printing the average of all selling prices\n",
    "price = data_frame.SalePrice\n",
    "print(\"Sale price AVG: \" + \"${:,.0f}\".format(price.mean()))"
   ]
  },
  {
   "cell_type": "code",
   "execution_count": 4,
   "metadata": {},
   "outputs": [],
   "source": [
    "data_frame = data_frame.drop('SalePrice', axis=1) # dropping SalePrice cloumn for training - our model must not to see the labels"
   ]
  },
  {
   "cell_type": "code",
   "execution_count": 5,
   "metadata": {},
   "outputs": [
    {
     "data": {
      "text/plain": [
       "(2919, 79)"
      ]
     },
     "execution_count": 5,
     "metadata": {},
     "output_type": "execute_result"
    }
   ],
   "source": [
    "total_data_frame = data_frame.append(test_data_frame) # merging all data\n",
    "total_data_frame.shape # 79 features - cause we deleted the SalePrice column"
   ]
  },
  {
   "cell_type": "code",
   "execution_count": 6,
   "metadata": {},
   "outputs": [
    {
     "name": "stdout",
     "output_type": "stream",
     "text": [
      "features---size: (79)\n",
      "numerics---size: (26)\n",
      "categorical---size: (53)\n"
     ]
    }
   ],
   "source": [
    "total_features = 'MSSubClass,MSZoning,LotFrontage,LotArea,Street,Alley,LotShape,LandContour,Utilities,LotConfig,LandSlope,Neighborhood,Condition1,Condition2,BldgType,HouseStyle,OverallQual,OverallCond,YearBuilt,YearRemodAdd,RoofStyle,RoofMatl,Exterior1st,Exterior2nd,MasVnrType,MasVnrArea,ExterQual,ExterCond,Foundation,BsmtQual,BsmtCond,BsmtExposure,BsmtFinType1,BsmtFinSF1,BsmtFinType2,BsmtFinSF2,BsmtUnfSF,TotalBsmtSF,Heating,HeatingQC,CentralAir,Electrical,1stFlrSF,2ndFlrSF,LowQualFinSF,GrLivArea,BsmtFullBath,BsmtHalfBath,FullBath,HalfBath,BedroomAbvGr,KitchenAbvGr,KitchenQual,TotRmsAbvGrd,Functional,Fireplaces,FireplaceQu,GarageType,GarageYrBlt,GarageFinish,GarageCars,GarageArea,GarageQual,GarageCond,PavedDrive,WoodDeckSF,OpenPorchSF,EnclosedPorch,3SsnPorch,ScreenPorch,PoolArea,PoolQC,Fence,MiscFeature,MiscVal,MoSold,YrSold,SaleType,SaleCondition'.split(',')\n",
    "numeric_features = ['LotFrontage', 'LotArea', 'MasVnrArea', 'BsmtFinSF1', 'BsmtFinSF2', 'BsmtUnfSF','LowQualFinSF','GrLivArea','BsmtFullBath','BsmtHalfBath','FullBath','HalfBath','BedroomAbvGr','KitchenAbvGr','TotRmsAbvGrd','TotalBsmtSF','Fireplaces', 'GarageCars', 'GarageArea','WoodDeckSF', 'OpenPorchSF', 'EnclosedPorch', '3SsnPorch', 'ScreenPorch', 'PoolArea', 'MiscVal']\n",
    "\n",
    "# separate categorical features from numeric features\n",
    "categorical_features = [f for f in total_features if not(f in numeric_features)]\n",
    "print(f\"features---size: ({len(total_features)})\") # size : 79 - we deleted the SalePrice feature\n",
    "print(f\"numerics---size: ({len(numeric_features)})\")\n",
    "print(f\"categorical---size: ({len(categorical_features)})\")\n",
    "\n"
   ]
  },
  {
   "cell_type": "code",
   "execution_count": 7,
   "metadata": {},
   "outputs": [
    {
     "data": {
      "text/plain": [
       "(2919, 26)"
      ]
     },
     "execution_count": 7,
     "metadata": {},
     "output_type": "execute_result"
    }
   ],
   "source": [
    "# separating numeric features from total data\n",
    "numeric_data_frame = total_data_frame[numeric_features]\n",
    "numeric_data_frame.shape"
   ]
  },
  {
   "cell_type": "code",
   "execution_count": 8,
   "metadata": {},
   "outputs": [
    {
     "name": "stderr",
     "output_type": "stream",
     "text": [
      "/home/wildonion/anaconda3/envs/mhp/lib/python3.7/site-packages/sklearn/utils/deprecation.py:66: DeprecationWarning: Class Imputer is deprecated; Imputer was deprecated in version 0.20 and will be removed in 0.22. Import impute.SimpleImputer from sklearn instead.\n",
      "  warnings.warn(msg, category=DeprecationWarning)\n"
     ]
    },
    {
     "data": {
      "text/plain": [
       "(2919, 26)"
      ]
     },
     "execution_count": 8,
     "metadata": {},
     "output_type": "execute_result"
    }
   ],
   "source": [
    "# imputing for numeric variables\n",
    "\n",
    "numeric_mat = numeric_data_frame.values\n",
    "imp = pp.Imputer(missing_values='NaN', strategy='most_frequent', axis=0)\n",
    "imp = imp.fit(numeric_mat)\n",
    "numeric_mat = imp.transform(numeric_mat)\n",
    "numeric_mat.shape"
   ]
  },
  {
   "cell_type": "code",
   "execution_count": 9,
   "metadata": {},
   "outputs": [
    {
     "data": {
      "text/plain": [
       "array([-0.12767816, -0.21787869,  0.52903417,  0.58114542, -0.29302528,\n",
       "       -0.93416481, -0.10119702,  0.41354722,  1.08733408, -0.24971861,\n",
       "        0.78136581,  1.23259887,  0.16992709, -0.20769847,  0.98684937,\n",
       "       -0.44307791, -0.92431121,  0.30641785,  0.34936362, -0.74076041,\n",
       "        0.20000601, -0.35960075, -0.10333053, -0.28593546, -0.06315017,\n",
       "       -0.08959196])"
      ]
     },
     "execution_count": 9,
     "metadata": {},
     "output_type": "execute_result"
    }
   ],
   "source": [
    "# scaling numeric matrix after imputation\n",
    "\n",
    "scaler = pp.StandardScaler()\n",
    "scaler.fit(numeric_mat)\n",
    "X = scaler.transform(numeric_mat)\n",
    "X[0, :] # getting the first row of scaled numeric features"
   ]
  },
  {
   "cell_type": "code",
   "execution_count": 10,
   "metadata": {},
   "outputs": [
    {
     "data": {
      "text/html": [
       "<div>\n",
       "<style scoped>\n",
       "    .dataframe tbody tr th:only-of-type {\n",
       "        vertical-align: middle;\n",
       "    }\n",
       "\n",
       "    .dataframe tbody tr th {\n",
       "        vertical-align: top;\n",
       "    }\n",
       "\n",
       "    .dataframe thead th {\n",
       "        text-align: right;\n",
       "    }\n",
       "</style>\n",
       "<table border=\"1\" class=\"dataframe\">\n",
       "  <thead>\n",
       "    <tr style=\"text-align: right;\">\n",
       "      <th></th>\n",
       "      <th>0_x</th>\n",
       "      <th>1_x</th>\n",
       "      <th>2_x</th>\n",
       "      <th>3_x</th>\n",
       "      <th>4_x</th>\n",
       "      <th>5_x</th>\n",
       "      <th>6_x</th>\n",
       "      <th>7_x</th>\n",
       "      <th>8_x</th>\n",
       "      <th>9_x</th>\n",
       "      <th>...</th>\n",
       "      <th>ConLw</th>\n",
       "      <th>New</th>\n",
       "      <th>Oth</th>\n",
       "      <th>WD</th>\n",
       "      <th>Abnorml</th>\n",
       "      <th>AdjLand</th>\n",
       "      <th>Alloca</th>\n",
       "      <th>Family</th>\n",
       "      <th>Normal</th>\n",
       "      <th>Partial</th>\n",
       "    </tr>\n",
       "    <tr>\n",
       "      <th>Id</th>\n",
       "      <th></th>\n",
       "      <th></th>\n",
       "      <th></th>\n",
       "      <th></th>\n",
       "      <th></th>\n",
       "      <th></th>\n",
       "      <th></th>\n",
       "      <th></th>\n",
       "      <th></th>\n",
       "      <th></th>\n",
       "      <th></th>\n",
       "      <th></th>\n",
       "      <th></th>\n",
       "      <th></th>\n",
       "      <th></th>\n",
       "      <th></th>\n",
       "      <th></th>\n",
       "      <th></th>\n",
       "      <th></th>\n",
       "      <th></th>\n",
       "      <th></th>\n",
       "    </tr>\n",
       "  </thead>\n",
       "  <tbody>\n",
       "    <tr>\n",
       "      <th>1</th>\n",
       "      <td>-0.127678</td>\n",
       "      <td>-0.217879</td>\n",
       "      <td>0.529034</td>\n",
       "      <td>0.581145</td>\n",
       "      <td>-0.293025</td>\n",
       "      <td>-0.934165</td>\n",
       "      <td>-0.101197</td>\n",
       "      <td>0.413547</td>\n",
       "      <td>1.087334</td>\n",
       "      <td>-0.249719</td>\n",
       "      <td>...</td>\n",
       "      <td>0</td>\n",
       "      <td>0</td>\n",
       "      <td>0</td>\n",
       "      <td>1</td>\n",
       "      <td>0</td>\n",
       "      <td>0</td>\n",
       "      <td>0</td>\n",
       "      <td>0</td>\n",
       "      <td>1</td>\n",
       "      <td>0</td>\n",
       "    </tr>\n",
       "    <tr>\n",
       "      <th>2</th>\n",
       "      <td>0.567125</td>\n",
       "      <td>-0.072044</td>\n",
       "      <td>-0.567016</td>\n",
       "      <td>1.178255</td>\n",
       "      <td>-0.293025</td>\n",
       "      <td>-0.629284</td>\n",
       "      <td>-0.101197</td>\n",
       "      <td>-0.471891</td>\n",
       "      <td>-0.818929</td>\n",
       "      <td>3.822508</td>\n",
       "      <td>...</td>\n",
       "      <td>0</td>\n",
       "      <td>0</td>\n",
       "      <td>0</td>\n",
       "      <td>1</td>\n",
       "      <td>0</td>\n",
       "      <td>0</td>\n",
       "      <td>0</td>\n",
       "      <td>0</td>\n",
       "      <td>1</td>\n",
       "      <td>0</td>\n",
       "    </tr>\n",
       "    <tr>\n",
       "      <th>3</th>\n",
       "      <td>0.011283</td>\n",
       "      <td>0.137197</td>\n",
       "      <td>0.338903</td>\n",
       "      <td>0.098189</td>\n",
       "      <td>-0.293025</td>\n",
       "      <td>-0.287999</td>\n",
       "      <td>-0.101197</td>\n",
       "      <td>0.563755</td>\n",
       "      <td>1.087334</td>\n",
       "      <td>-0.249719</td>\n",
       "      <td>...</td>\n",
       "      <td>0</td>\n",
       "      <td>0</td>\n",
       "      <td>0</td>\n",
       "      <td>1</td>\n",
       "      <td>0</td>\n",
       "      <td>0</td>\n",
       "      <td>0</td>\n",
       "      <td>0</td>\n",
       "      <td>1</td>\n",
       "      <td>0</td>\n",
       "    </tr>\n",
       "    <tr>\n",
       "      <th>4</th>\n",
       "      <td>-0.359279</td>\n",
       "      <td>-0.078385</td>\n",
       "      <td>-0.567016</td>\n",
       "      <td>-0.494529</td>\n",
       "      <td>-0.293025</td>\n",
       "      <td>-0.046824</td>\n",
       "      <td>-0.101197</td>\n",
       "      <td>0.427382</td>\n",
       "      <td>1.087334</td>\n",
       "      <td>-0.249719</td>\n",
       "      <td>...</td>\n",
       "      <td>0</td>\n",
       "      <td>0</td>\n",
       "      <td>0</td>\n",
       "      <td>1</td>\n",
       "      <td>1</td>\n",
       "      <td>0</td>\n",
       "      <td>0</td>\n",
       "      <td>0</td>\n",
       "      <td>0</td>\n",
       "      <td>0</td>\n",
       "    </tr>\n",
       "    <tr>\n",
       "      <th>5</th>\n",
       "      <td>0.752406</td>\n",
       "      <td>0.518903</td>\n",
       "      <td>1.390216</td>\n",
       "      <td>0.469187</td>\n",
       "      <td>-0.293025</td>\n",
       "      <td>-0.160586</td>\n",
       "      <td>-0.101197</td>\n",
       "      <td>1.378042</td>\n",
       "      <td>1.087334</td>\n",
       "      <td>-0.249719</td>\n",
       "      <td>...</td>\n",
       "      <td>0</td>\n",
       "      <td>0</td>\n",
       "      <td>0</td>\n",
       "      <td>1</td>\n",
       "      <td>0</td>\n",
       "      <td>0</td>\n",
       "      <td>0</td>\n",
       "      <td>0</td>\n",
       "      <td>1</td>\n",
       "      <td>0</td>\n",
       "    </tr>\n",
       "  </tbody>\n",
       "</table>\n",
       "<p>5 rows × 2330 columns</p>\n",
       "</div>"
      ],
      "text/plain": [
       "         0_x       1_x       2_x       3_x       4_x       5_x       6_x  \\\n",
       "Id                                                                         \n",
       "1  -0.127678 -0.217879  0.529034  0.581145 -0.293025 -0.934165 -0.101197   \n",
       "2   0.567125 -0.072044 -0.567016  1.178255 -0.293025 -0.629284 -0.101197   \n",
       "3   0.011283  0.137197  0.338903  0.098189 -0.293025 -0.287999 -0.101197   \n",
       "4  -0.359279 -0.078385 -0.567016 -0.494529 -0.293025 -0.046824 -0.101197   \n",
       "5   0.752406  0.518903  1.390216  0.469187 -0.293025 -0.160586 -0.101197   \n",
       "\n",
       "         7_x       8_x       9_x  ...  ConLw  New  Oth  WD  Abnorml  AdjLand  \\\n",
       "Id                                ...                                          \n",
       "1   0.413547  1.087334 -0.249719  ...      0    0    0   1        0        0   \n",
       "2  -0.471891 -0.818929  3.822508  ...      0    0    0   1        0        0   \n",
       "3   0.563755  1.087334 -0.249719  ...      0    0    0   1        0        0   \n",
       "4   0.427382  1.087334 -0.249719  ...      0    0    0   1        1        0   \n",
       "5   1.378042  1.087334 -0.249719  ...      0    0    0   1        0        0   \n",
       "\n",
       "    Alloca  Family  Normal  Partial  \n",
       "Id                                   \n",
       "1        0       0       1        0  \n",
       "2        0       0       1        0  \n",
       "3        0       0       1        0  \n",
       "4        0       0       0        0  \n",
       "5        0       0       1        0  \n",
       "\n",
       "[5 rows x 2330 columns]"
      ]
     },
     "execution_count": 10,
     "metadata": {},
     "output_type": "execute_result"
    }
   ],
   "source": [
    "# expanding categorical into columns\n",
    "# later we'll use pca to reduce the dimension\n",
    "\n",
    "def process_categorical(ndf, df, categorical_features):\n",
    "    for f in categorical_features:\n",
    "        new_cols = pd.DataFrame(pd.get_dummies(df[f]))\n",
    "        new_cols.index = df.index\n",
    "        ndf = pd.merge(ndf, new_cols, how='inner', left_index=True, right_index=True)\n",
    "    return ndf\n",
    "\n",
    "numeric_df = pd.DataFrame(X)\n",
    "numeric_df.index = total_data_frame.index\n",
    "combined_df = process_categorical(numeric_df, total_data_frame, categorical_features)\n",
    "combined_df.head()\n",
    "\n"
   ]
  },
  {
   "cell_type": "code",
   "execution_count": 11,
   "metadata": {},
   "outputs": [
    {
     "data": {
      "text/plain": [
       "(2919, 2330)"
      ]
     },
     "execution_count": 11,
     "metadata": {},
     "output_type": "execute_result"
    }
   ],
   "source": [
    "X = combined_df.values\n",
    "X.shape # shape of final data frame - 2919 is total data : test and train and 2330 is total features till now"
   ]
  },
  {
   "cell_type": "code",
   "execution_count": 12,
   "metadata": {},
   "outputs": [
    {
     "data": {
      "text/plain": [
       "(2919, 1460)"
      ]
     },
     "execution_count": 12,
     "metadata": {},
     "output_type": "execute_result"
    }
   ],
   "source": [
    "test_n = data_frame.shape[0] # 1460 total data - rows\n",
    "pca = PCA()\n",
    "pca.fit(X[:test_n,:], price) # reduce the first 1460 data(training samples) columns(2330) to 1460 columns  \n",
    "X = pca.transform(X)\n",
    "X.shape # 2919 data with 1460 columns"
   ]
  },
  {
   "cell_type": "code",
   "execution_count": 13,
   "metadata": {},
   "outputs": [
    {
     "data": {
      "text/plain": [
       "((1022, 1460), (1022,), (438, 1460), (438,), (1459, 1460))"
      ]
     },
     "execution_count": 13,
     "metadata": {},
     "output_type": "execute_result"
    }
   ],
   "source": [
    "X_train = X[:test_n,:]  # 1460 total training samples\n",
    "X_train, X_val, y_train, y_val = ms.train_test_split(X_train, price, test_size=0.3, random_state=0)\n",
    "X_test = X[test_n:,:] # 2919 - 1460 = 1459 total testing samples\n",
    "\n",
    "(X_train.shape, y_train.shape, X_val.shape, y_val.shape, X_test.shape)"
   ]
  },
  {
   "cell_type": "code",
   "execution_count": 14,
   "metadata": {},
   "outputs": [
    {
     "data": {
      "text/plain": [
       "LinearRegression(copy_X=True, fit_intercept=True, n_jobs=None, normalize=False)"
      ]
     },
     "execution_count": 14,
     "metadata": {},
     "output_type": "execute_result"
    }
   ],
   "source": [
    "# linear regression algo\n",
    "\n",
    "lr = linear_model.LinearRegression()\n",
    "lr.fit(X_train, y_train) # (1022, 1460) training samples and (1022,) training labels"
   ]
  },
  {
   "cell_type": "code",
   "execution_count": 15,
   "metadata": {},
   "outputs": [
    {
     "name": "stdout",
     "output_type": "stream",
     "text": [
      "Lasso score is 0.764262 with params {\"alpha\": 151.0}\n",
      "Lasso score is 0.764262 with params {\"alpha\": 151.1}\n",
      "Lasso score is 0.764262 with params {\"alpha\": 151.2}\n",
      "Lasso score is 0.764263 with params {\"alpha\": 151.29999999999998}\n",
      "Lasso score is 0.764263 with params {\"alpha\": 151.39999999999998}\n",
      "Lasso score is 0.764263 with params {\"alpha\": 151.49999999999997}\n",
      "Lasso score is 0.764263 with params {\"alpha\": 151.59999999999997}\n",
      "Lasso score is 0.764264 with params {\"alpha\": 151.69999999999996}\n",
      "Lasso score is 0.764264 with params {\"alpha\": 151.79999999999995}\n",
      "Lasso score is 0.764264 with params {\"alpha\": 151.89999999999995}\n"
     ]
    },
    {
     "data": {
      "text/plain": [
       "Lasso(alpha=151.7, copy_X=True, fit_intercept=True, max_iter=2000,\n",
       "      normalize=False, positive=False, precompute=False, random_state=None,\n",
       "      selection='cyclic', tol=0.0001, warm_start=False)"
      ]
     },
     "execution_count": 15,
     "metadata": {},
     "output_type": "execute_result"
    }
   ],
   "source": [
    "# lasso algo\n",
    "\n",
    "for a in np.arange(151., 152., 0.1):\n",
    "    lasso = linear_model.Lasso(alpha=a, max_iter=2000)\n",
    "    lasso.fit(X_train, y_train)\n",
    "    print_score('Lasso', lasso.score(X_val, y_val), {'alpha': a})\n",
    "lasso = linear_model.Lasso(alpha=151.7, max_iter=2000)\n",
    "lasso.fit(X_train, y_train)"
   ]
  },
  {
   "cell_type": "code",
   "execution_count": 16,
   "metadata": {},
   "outputs": [
    {
     "name": "stdout",
     "output_type": "stream",
     "text": [
      "Rdidge score is 0.766270 with params {\"alpha\": 25.0}\n",
      "Rdidge score is 0.766270 with params {\"alpha\": 25.05}\n",
      "Rdidge score is 0.766271 with params {\"alpha\": 25.1}\n",
      "Rdidge score is 0.766271 with params {\"alpha\": 25.150000000000002}\n",
      "Rdidge score is 0.766271 with params {\"alpha\": 25.200000000000003}\n",
      "Rdidge score is 0.766272 with params {\"alpha\": 25.250000000000004}\n",
      "Rdidge score is 0.766272 with params {\"alpha\": 25.300000000000004}\n",
      "Rdidge score is 0.766272 with params {\"alpha\": 25.350000000000005}\n",
      "Rdidge score is 0.766272 with params {\"alpha\": 25.400000000000006}\n",
      "Rdidge score is 0.766273 with params {\"alpha\": 25.450000000000006}\n",
      "Rdidge score is 0.766273 with params {\"alpha\": 25.500000000000007}\n",
      "Rdidge score is 0.766273 with params {\"alpha\": 25.550000000000008}\n",
      "Rdidge score is 0.766273 with params {\"alpha\": 25.60000000000001}\n",
      "Rdidge score is 0.766273 with params {\"alpha\": 25.65000000000001}\n",
      "Rdidge score is 0.766273 with params {\"alpha\": 25.70000000000001}\n",
      "Rdidge score is 0.766273 with params {\"alpha\": 25.75000000000001}\n",
      "Rdidge score is 0.766273 with params {\"alpha\": 25.80000000000001}\n",
      "Rdidge score is 0.766272 with params {\"alpha\": 25.850000000000012}\n",
      "Rdidge score is 0.766272 with params {\"alpha\": 25.900000000000013}\n",
      "Rdidge score is 0.766272 with params {\"alpha\": 25.950000000000014}\n"
     ]
    },
    {
     "data": {
      "text/plain": [
       "Ridge(alpha=25.5, copy_X=True, fit_intercept=True, max_iter=2000,\n",
       "      normalize=False, random_state=None, solver='auto', tol=0.001)"
      ]
     },
     "execution_count": 16,
     "metadata": {},
     "output_type": "execute_result"
    }
   ],
   "source": [
    "for a in np.arange(25., 26., 0.05):\n",
    "    ridge = linear_model.Ridge(alpha=a, max_iter=2000)\n",
    "    ridge.fit(X_train, y_train)\n",
    "    print_score('Rdidge', ridge.score(X_val, y_val), {'alpha': a})\n",
    "ridge = linear_model.Ridge(alpha=25.5, max_iter=2000)\n",
    "ridge.fit(X_train, y_train)"
   ]
  },
  {
   "cell_type": "code",
   "execution_count": 17,
   "metadata": {},
   "outputs": [],
   "source": [
    "# xgboost algo\n",
    "\n",
    "params = {'eval_metric':'rmse'}\n",
    "xm = xgb.DMatrix(X_train, label=y_train)\n",
    "xmodel = xgb.train(params, xm)\n",
    "xg_y_pred = xmodel.predict(xgb.DMatrix(X_val)) # passing X_val for validating prediction"
   ]
  },
  {
   "cell_type": "code",
   "execution_count": 18,
   "metadata": {},
   "outputs": [
    {
     "name": "stdout",
     "output_type": "stream",
     "text": [
      "XGBoost score is 0.788796\n",
      "Ridge score is 0.766273\n",
      "Lasso score is 0.764264\n",
      "Linear Regression score is 0.449810\n"
     ]
    }
   ],
   "source": [
    "print('XGBoost score is %f' % metrics.r2_score(y_val, xg_y_pred))\n",
    "print('Ridge score is %f' % ridge.score(X_val, y_val))\n",
    "print('Lasso score is %f' % lasso.score(X_val, y_val))\n",
    "print('Linear Regression score is %f' % lr.score(X_val, y_val))\n",
    "best = ridge"
   ]
  },
  {
   "cell_type": "code",
   "execution_count": 20,
   "metadata": {},
   "outputs": [
    {
     "name": "stdout",
     "output_type": "stream",
     "text": [
      "ridge mean squared error is 1,586,772,326.96\n",
      "xgboost mean squared error is 1,433,863,917.81\n",
      "lasso mean squared error is 1,600,412,254.34\n",
      "linear mean squared error is 3,735,235,976.56\n"
     ]
    }
   ],
   "source": [
    "y_val_pred = best.predict(X_val) # labels prediction for best model wrt X_val \n",
    "mse = mean_squared_error(y_val, y_val_pred) # calculating mse error based on actual labels(y_val) and prediction labels(y_val_pred)\n",
    "print('ridge mean squared error is %s' % '{:,.2f}'.format(mse))\n",
    "\n",
    "boost_mse = mean_squared_error(y_val, xg_y_pred) # mse loss for predicted labels with xgboost and actual labels\n",
    "print('xgboost mean squared error is %s' % '{:,.2f}'.format(boost_mse))\n",
    "\n",
    "y_val_pred_lasso = lasso.predict(X_val)\n",
    "lasso_mse = mean_squared_error(y_val, y_val_pred_lasso) # mse loss for predicted labels with lasso and actual labels\n",
    "print('lasso mean squared error is %s' % '{:,.2f}'.format(lasso_mse))\n",
    "\n",
    "y_val_pred_lr = lr.predict(X_val)\n",
    "lr_mse = mean_squared_error(y_val, y_val_pred_lr) # mse loss for predicted labels with linear and actual labels\n",
    "print('linear mean squared error is %s' % '{:,.2f}'.format(lr_mse))"
   ]
  },
  {
   "cell_type": "code",
   "execution_count": 21,
   "metadata": {},
   "outputs": [
    {
     "name": "stdout",
     "output_type": "stream",
     "text": [
      "Lasso RMSLE is 0.155705\n",
      "Linear RMSLE is 0.850628\n",
      "Ridge RMSLE is 0.149426\n",
      "XGBoost RMSLE is 0.166624\n"
     ]
    },
    {
     "name": "stderr",
     "output_type": "stream",
     "text": [
      "/home/wildonion/anaconda3/envs/mhp/lib/python3.7/site-packages/ipykernel_launcher.py:4: RuntimeWarning: invalid value encountered in log\n",
      "  after removing the cwd from sys.path.\n"
     ]
    }
   ],
   "source": [
    "# rmsle loss based on prediction labels and actual labels for ridge, xgboost, lasso and linear\n",
    "\n",
    "print(\"Lasso RMSLE is %f\" % rmsle(y_val_pred_lasso, y_val))\n",
    "print(\"Linear RMSLE is %f\" % rmsle(y_val_pred_lr, y_val))\n",
    "print(\"Ridge RMSLE is %f\" % rmsle(y_val_pred, y_val))\n",
    "print(\"XGBoost RMSLE is %f\" % rmsle(xg_y_pred, y_val))"
   ]
  },
  {
   "cell_type": "code",
   "execution_count": 113,
   "metadata": {},
   "outputs": [
    {
     "data": {
      "text/plain": [
       "(438,)"
      ]
     },
     "execution_count": 113,
     "metadata": {},
     "output_type": "execute_result"
    }
   ],
   "source": [
    "y_val_pred.shape # x_val size : (438, 1460) - prediction for ridge"
   ]
  },
  {
   "cell_type": "code",
   "execution_count": 22,
   "metadata": {},
   "outputs": [
    {
     "data": {
      "image/png": "[encoded data removed]",
      "text/plain": [
       "<Figure size 432x288 with 1 Axes>"
      ]
     },
     "metadata": {},
     "output_type": "display_data"
    }
   ],
   "source": [
    "# plotting ops for linear model\n",
    "\n",
    "fig, ax = plt.subplots()\n",
    "ax.plot(y_val, y_val_pred_lr, 'b.') # plot the actual and predicted labels\n",
    "ax.plot([y_val.min(), y_val.max()], [y_val.min(), y_val.max()], 'k--')\n",
    "ax.set_xlabel('Measured')\n",
    "ax.set_ylabel('Predicted')\n",
    "ax.set_title('Linear')\n",
    "plt.show()"
   ]
  },
  {
   "cell_type": "code",
   "execution_count": 23,
   "metadata": {},
   "outputs": [
    {
     "data": {
      "image/png": "[encoded data removed]",
      "text/plain": [
       "<Figure size 432x288 with 1 Axes>"
      ]
     },
     "metadata": {},
     "output_type": "display_data"
    }
   ],
   "source": [
    "# plotting ops for lasso model\n",
    "\n",
    "fig, ax = plt.subplots()\n",
    "ax.plot(y_val, y_val_pred_lasso, 'b.') # plot the actual and predicted labels\n",
    "ax.plot([y_val.min(), y_val.max()], [y_val.min(), y_val.max()], 'k--')\n",
    "ax.set_xlabel('Measured')\n",
    "ax.set_ylabel('Predicted')\n",
    "ax.set_title('Linear')\n",
    "plt.show()"
   ]
  },
  {
   "cell_type": "code",
   "execution_count": 105,
   "metadata": {},
   "outputs": [
    {
     "data": {
      "image/png": "[encoded data removed]",
      "text/plain": [
       "<Figure size 432x288 with 1 Axes>"
      ]
     },
     "metadata": {},
     "output_type": "display_data"
    }
   ],
   "source": [
    "# plotting ops for ridge model\n",
    "\n",
    "fig, ax = plt.subplots()\n",
    "ax.plot(y_val, y_val_pred, 'b.') # plot the actual and predicted labels\n",
    "ax.plot([y_val.min(), y_val.max()], [y_val.min(), y_val.max()], 'k--')\n",
    "ax.set_xlabel('Measured')\n",
    "ax.set_ylabel('Predicted')\n",
    "ax.set_title('Ridge')\n",
    "plt.show()"
   ]
  },
  {
   "cell_type": "code",
   "execution_count": 114,
   "metadata": {},
   "outputs": [
    {
     "data": {
      "image/png": "[encoded data removed]",
      "text/plain": [
       "<Figure size 432x288 with 1 Axes>"
      ]
     },
     "metadata": {},
     "output_type": "display_data"
    }
   ],
   "source": [
    "# plotting ops for xgboost\n",
    "\n",
    "fig, ax = plt.subplots()\n",
    "ax.plot(y_val, xg_y_pred, 'b.')\n",
    "ax.plot([y_val.min(), y_val.max()], [y_val.min(), y_val.max()], 'k--')\n",
    "ax.set_xlabel('Measured')\n",
    "ax.set_ylabel('Predicted')\n",
    "ax.set_title('XGBoost')\n",
    "plt.show()"
   ]
  },
  {
   "cell_type": "code",
   "execution_count": 29,
   "metadata": {},
   "outputs": [],
   "source": [
    "# predicting for linear model on test samples trained on X_train(X[:test_n, :])\n",
    "\n",
    "lr.fit(X[:test_n, :], price) # fitting training samples with their labels into the linear model - 1460 lables for 1022 training samples\n",
    "y_submit = lr.predict(X_test) # predictin testing samples\n",
    "y_submit[y_submit < 0] = 1. # if the predicted values is negative we replace it with 1.\n",
    "test_data_frame['SalePrice'] = y_submit # adding a SalePrice column to our test data frame\n",
    "test_data_frame.to_csv('linear_prediction.csv', columns = ['SalePrice']) # writing test data to a new csv file\n"
   ]
  },
  {
   "cell_type": "code",
   "execution_count": 24,
   "metadata": {},
   "outputs": [],
   "source": [
    "# predicting for lasso model on test samples trained on X_train(X[:test_n, :])\n",
    "\n",
    "lasso.fit(X[:test_n, :], price) # fitting training samples with their labels into the lasso model - 1460 lables for 1022 training samples\n",
    "y_submit = lasso.predict(X_test) # predictin testing samples\n",
    "y_submit[y_submit < 0] = 1. # if the predicted values is negative we replace it with 1.\n",
    "test_data_frame['SalePrice'] = y_submit # adding a SalePrice column to our test data frame\n",
    "test_data_frame.to_csv('lasso_prediction.csv', columns = ['SalePrice']) # writing test data to a new csv file"
   ]
  },
  {
   "cell_type": "code",
   "execution_count": 30,
   "metadata": {},
   "outputs": [],
   "source": [
    "# predicting for ridge model on test samples trained on X_train(X[:test_n, :])\n",
    "\n",
    "best.fit(X[:test_n, :], price) # fitting training samples with their labels into the ridge model - 1460 lables for 1022 training samples\n",
    "y_submit = best.predict(X_test) # predictin testing samples\n",
    "y_submit[y_submit < 0] = 1. # if the predicted values is negative we replace it with 1.\n",
    "test_data_frame['SalePrice'] = y_submit # adding a SalePrice column to our test data frame\n",
    "test_data_frame.to_csv('ridge_prediction.csv', columns = ['SalePrice']) # writing test data to a new csv file\n",
    "\n"
   ]
  },
  {
   "cell_type": "code",
   "execution_count": 31,
   "metadata": {},
   "outputs": [],
   "source": [
    "# predicting for xgboost model on test samples trained on X_train(X[:test_n, :])\n",
    "\n",
    "xmodel = xgb.train(params, xgb.DMatrix(X[:test_n, :], label=price)) # 1460 lables for 1022 training samples\n",
    "y_submit = xmodel.predict(xgb.DMatrix(X_test)) # predictin testing samples\n",
    "y_submit[y_submit < 0] = 1. # if the predicted values is negative we replace it with 1.\n",
    "test_data_frame['SalePrice'] = y_submit # adding a SalePrice column to our test data frame\n",
    "test_data_frame.to_csv('xgb_prediction.csv', columns = ['SalePrice']) # writing test data to a new csv file"
   ]
  }
 ],
 "metadata": {
  "kernelspec": {
   "display_name": "Python 3",
   "language": "python",
   "name": "python3"
  },
  "language_info": {
   "codemirror_mode": {
    "name": "ipython",
    "version": 3
   },
   "file_extension": ".py",
   "mimetype": "text/x-python",
   "name": "python",
   "nbconvert_exporter": "python",
   "pygments_lexer": "ipython3",
   "version": "3.7.9"
  }
 },
 "nbformat": 4,
 "nbformat_minor": 4
}
